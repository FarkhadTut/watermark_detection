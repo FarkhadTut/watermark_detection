{
 "cells": [
  {
   "cell_type": "code",
   "execution_count": null,
   "id": "e854de73",
   "metadata": {},
   "outputs": [],
   "source": [
    "!nvidia-smi"
   ]
  },
  {
   "cell_type": "code",
   "execution_count": null,
   "id": "ae127d58",
   "metadata": {
    "scrolled": true
   },
   "outputs": [],
   "source": []
  },
  {
   "cell_type": "code",
   "execution_count": null,
   "id": "bd702c5f",
   "metadata": {},
   "outputs": [],
   "source": [
    "import torch\n",
    "import torch.nn as nn\n",
    "import torch.optim as optim\n",
    "import numpy as np\n",
    "import torchvision\n",
    "from torchvision import datasets, models, transforms\n",
    "import matplotlib.pyplot as plt\n",
    "import time\n",
    "import os\n",
    "import copy\n",
    "print(\"PyTorch Version: \",torch.__version__)\n",
    "print(\"Torchvision Version: \",torchvision.__version__)\n",
    "from PIL import Image\n",
    "import pandas as pd\n",
    "import random\n",
    "from tqdm import tqdm\n",
    "import timm"
   ]
  },
  {
   "cell_type": "code",
   "execution_count": null,
   "id": "19a4a844",
   "metadata": {},
   "outputs": [],
   "source": [
    "import sys\n",
    "sys.path.append('../')"
   ]
  },
  {
   "cell_type": "markdown",
   "id": "13f4d0a2",
   "metadata": {},
   "source": [
    "### Set input images size"
   ]
  },
  {
   "cell_type": "code",
   "execution_count": null,
   "id": "31c44b3a",
   "metadata": {},
   "outputs": [],
   "source": [
    "input_size = 256"
   ]
  },
  {
   "cell_type": "markdown",
   "id": "59f4475a",
   "metadata": {},
   "source": [
    "### Create model"
   ]
  },
  {
   "cell_type": "markdown",
   "id": "c33adc73",
   "metadata": {},
   "source": [
    "#### ResNext"
   ]
  },
  {
   "cell_type": "code",
   "execution_count": null,
   "id": "71ee87ef",
   "metadata": {},
   "outputs": [],
   "source": [
    "model_ft = models.resnext50_32x4d(pretrained=True)\n",
    "num_ftrs = model_ft.fc.in_features\n",
    "model_ft.fc = nn.Linear(num_ftrs, 2)"
   ]
  },
  {
   "cell_type": "markdown",
   "id": "9794ec08",
   "metadata": {},
   "source": [
    "#### ConvNext"
   ]
  },
  {
   "cell_type": "code",
   "execution_count": null,
   "id": "d715572f",
   "metadata": {},
   "outputs": [],
   "source": [
    "from wmdetection.models.convnext import convnext_tiny, convnext_small\n",
    "\n",
    "model_ft = convnext_tiny(pretrained=True, in_22k=True, num_classes=21841)\n",
    "\n",
    "model_ft.head = nn.Sequential( \n",
    "    nn.Linear(in_features=768, out_features=512),\n",
    "    nn.GELU(),\n",
    "    nn.Linear(in_features=512, out_features=256),\n",
    "    nn.GELU(),\n",
    "    nn.Linear(in_features=256, out_features=2),\n",
    ")"
   ]
  },
  {
   "cell_type": "markdown",
   "id": "bed35045",
   "metadata": {},
   "source": [
    "##### Effnet"
   ]
  },
  {
   "cell_type": "code",
   "execution_count": null,
   "id": "42011e5b",
   "metadata": {},
   "outputs": [],
   "source": [
    "model_ft = timm.create_model(\n",
    "    'efficientnet_b3a', pretrained=True, num_classes=2\n",
    ")\n",
    "model_ft.classifier = nn.Sequential(\n",
    "    nn.Linear(in_features=1536, out_features=625),\n",
    "    nn.ReLU(),\n",
    "    nn.Dropout(p=0.3),\n",
    "    nn.Linear(in_features=625, out_features=256),\n",
    "    nn.ReLU(),\n",
    "    nn.Linear(in_features=256, out_features=2),\n",
    ")"
   ]
  },
  {
   "cell_type": "markdown",
   "id": "8bf06362",
   "metadata": {},
   "source": [
    "### Preparations for train"
   ]
  },
  {
   "cell_type": "code",
   "execution_count": null,
   "id": "6f4f467d",
   "metadata": {},
   "outputs": [],
   "source": [
    "model_ft = model_ft.cuda()"
   ]
  },
  {
   "cell_type": "code",
   "execution_count": null,
   "id": "f18b083c",
   "metadata": {},
   "outputs": [],
   "source": [
    "class RandomRotation:\n",
    "    def __init__(self, angles, p):\n",
    "        self.p = p\n",
    "        self.angles = angles\n",
    "\n",
    "    def __call__(self, x):\n",
    "        if random.random() < self.p:\n",
    "            angle = random.choice(self.angles)\n",
    "            return transforms.functional.rotate(x, angle)\n",
    "        else:\n",
    "            return x\n",
    "\n",
    "preprocess = {\n",
    "    'train': transforms.Compose([\n",
    "        transforms.Resize((input_size, input_size)),\n",
    "        #transforms.RandomCrop(input_size),\n",
    "        transforms.RandomHorizontalFlip(),\n",
    "        transforms.ToTensor(),\n",
    "        RandomRotation([90, -90], 0.2),\n",
    "        transforms.Normalize([0.485, 0.456, 0.406], [0.229, 0.224, 0.225])\n",
    "    ]),\n",
    "    'val': transforms.Compose([\n",
    "        transforms.Resize((input_size, input_size)),\n",
    "        #transforms.CenterCrop(input_size),\n",
    "        transforms.ToTensor(),\n",
    "        transforms.Normalize([0.485, 0.456, 0.406], [0.229, 0.224, 0.225])\n",
    "    ]),\n",
    "}"
   ]
  },
  {
   "cell_type": "markdown",
   "id": "d9dce258",
   "metadata": {},
   "source": [
    "## Prepare dataset"
   ]
  },
  {
   "cell_type": "code",
   "execution_count": null,
   "id": "e2cd2353",
   "metadata": {},
   "outputs": [],
   "source": [
    "df_train = pd.read_csv('../dataset/train_data_v1-1.csv')\n",
    "df_val = pd.read_csv('../dataset/val_data_v1-1.csv')\n",
    "\n",
    "df_train['path'] = df_train['path'].apply(lambda x: os.path.join('dataset', x))\n",
    "df_val['path'] = df_val['path'].apply(lambda x: os.path.join('dataset', x))"
   ]
  },
  {
   "cell_type": "code",
   "execution_count": null,
   "id": "17dc4ecf",
   "metadata": {},
   "outputs": [],
   "source": [
    "df_train['label'].value_counts()"
   ]
  },
  {
   "cell_type": "code",
   "execution_count": null,
   "id": "53f8d3a0",
   "metadata": {},
   "outputs": [],
   "source": [
    "df_val['label'].value_counts()"
   ]
  },
  {
   "cell_type": "code",
   "execution_count": null,
   "id": "80d65c52",
   "metadata": {},
   "outputs": [],
   "source": [
    "from io import BytesIO\n",
    "from PIL import ImageFile\n",
    "ImageFile.LOAD_TRUNCATED_IMAGES = True\n",
    "\n",
    "class WatermarkDataset(torch.utils.data.Dataset):\n",
    "    def __init__(self, df, transform):\n",
    "        self.df = df.reset_index(drop = True)\n",
    "        self.transform = transform\n",
    "    \n",
    "    def __len__(self):\n",
    "        return len(self.df)\n",
    "    \n",
    "    def __getitem__(self, idx):\n",
    "        img = Image.open(self.df.loc[idx].path).convert('RGB')\n",
    "        tensor = self.transform(img)\n",
    "        return tensor, self.df.loc[idx].label"
   ]
  },
  {
   "cell_type": "code",
   "execution_count": null,
   "id": "1e8bfcb3",
   "metadata": {},
   "outputs": [],
   "source": [
    "train_ds = WatermarkDataset(df_train, preprocess['train'])"
   ]
  },
  {
   "cell_type": "code",
   "execution_count": null,
   "id": "ac1adcb5",
   "metadata": {},
   "outputs": [],
   "source": [
    "val_ds = WatermarkDataset(df_val, preprocess['val'])"
   ]
  },
  {
   "cell_type": "code",
   "execution_count": null,
   "id": "bf676bf1",
   "metadata": {},
   "outputs": [],
   "source": [
    "datasets = {\n",
    "    'train': train_ds,\n",
    "    'val': val_ds,\n",
    "}"
   ]
  },
  {
   "cell_type": "markdown",
   "id": "f788954e",
   "metadata": {},
   "source": [
    "## Train"
   ]
  },
  {
   "cell_type": "code",
   "execution_count": null,
   "id": "c4d313f0",
   "metadata": {},
   "outputs": [],
   "source": [
    "from tqdm import tqdm\n",
    "device = torch.device('cuda:0')\n",
    "\n",
    "def train_model(model, dataloaders, criterion, optimizer, num_epochs=80):\n",
    "    since = time.time()\n",
    "\n",
    "    val_acc_history = []\n",
    "    train_acc_history = []\n",
    "\n",
    "    best_model_wts = copy.deepcopy(model.state_dict())\n",
    "    best_acc = 0.0\n",
    "\n",
    "    for epoch in range(num_epochs):\n",
    "        print('Epoch {}/{}'.format(epoch, num_epochs - 1))\n",
    "        print('-' * 10)\n",
    "\n",
    "        for phase in ['train', 'val']:\n",
    "            if phase == 'train':\n",
    "                model.train()\n",
    "            else:\n",
    "                model.eval()\n",
    "\n",
    "            running_loss = 0.0\n",
    "            running_corrects = 0\n",
    "\n",
    "            for inputs, labels in tqdm(dataloaders[phase]):\n",
    "                inputs = inputs.to(device)\n",
    "                labels = labels.to(device)\n",
    "\n",
    "                optimizer.zero_grad()\n",
    "\n",
    "                with torch.set_grad_enabled(phase == 'train'):\n",
    "                    with torch.cuda.amp.autocast():\n",
    "                        outputs = model(inputs)\n",
    "                        loss = criterion(outputs, labels)\n",
    "\n",
    "                    _, preds = torch.max(outputs, 1)\n",
    "\n",
    "                    if phase == 'train':\n",
    "                        loss.backward()\n",
    "                        optimizer.step()\n",
    "\n",
    "                running_loss += loss.item() * inputs.size(0)\n",
    "                running_corrects += torch.sum(preds == labels.data)\n",
    "\n",
    "            epoch_loss = running_loss / len(dataloaders[phase].dataset)\n",
    "            epoch_acc = running_corrects.double() / len(dataloaders[phase].dataset)\n",
    "\n",
    "            print('{} Loss: {:.4f} Acc: {:.4f}'.format(phase, epoch_loss, epoch_acc))\n",
    "\n",
    "            if phase == 'val' and epoch_acc > best_acc:\n",
    "                best_acc = epoch_acc\n",
    "            if phase == 'val':\n",
    "                val_acc_history.append(epoch_acc)\n",
    "            if phase == 'train':\n",
    "                train_acc_history.append(epoch_acc)\n",
    "\n",
    "        print()\n",
    "\n",
    "    time_elapsed = time.time() - since\n",
    "    print('Training complete in {:.0f}m {:.0f}s'.format(time_elapsed // 60, time_elapsed % 60))\n",
    "    print('Best val Acc: {:4f}'.format(best_acc))\n",
    "\n",
    "    return model, train_acc_history, val_acc_history"
   ]
  },
  {
   "cell_type": "code",
   "execution_count": null,
   "id": "69824cf4",
   "metadata": {},
   "outputs": [],
   "source": [
    "criterion = torch.nn.CrossEntropyLoss()\n",
    "optimizer = optim.AdamW(params=model_ft.parameters(), lr=0.2e-5)\n",
    "\n",
    "BATCH_SIZE = 64\n",
    "\n",
    "dataloaders_dict = {\n",
    "    x: torch.utils.data.DataLoader(datasets[x], batch_size=BATCH_SIZE, shuffle=True, num_workers=12) \n",
    "    for x in ['train', 'val']\n",
    "}"
   ]
  },
  {
   "cell_type": "code",
   "execution_count": null,
   "id": "efdc249d",
   "metadata": {
    "scrolled": true
   },
   "outputs": [],
   "source": [
    "import warnings\n",
    "warnings.filterwarnings(\"ignore\")\n",
    "\n",
    "model_ft, train_acc_history, val_acc_history = train_model(\n",
    "    model_ft, dataloaders_dict, criterion, optimizer, num_epochs=3\n",
    ")"
   ]
  },
  {
   "cell_type": "code",
   "execution_count": null,
   "id": "a8030872",
   "metadata": {},
   "outputs": [],
   "source": []
  },
  {
   "cell_type": "markdown",
   "id": "e708f653",
   "metadata": {},
   "source": [
    "### Plot acc history"
   ]
  },
  {
   "cell_type": "code",
   "execution_count": null,
   "id": "69c872f4",
   "metadata": {},
   "outputs": [],
   "source": [
    "plt.plot([i.cpu().item() for i in train_acc_history])\n",
    "plt.plot([i.cpu().item() for i in val_acc_history])\n",
    "plt.title('Model accuracy')\n",
    "plt.ylabel('Accuracy')\n",
    "plt.xlabel('Epoch')\n",
    "plt.legend(['train', 'valid'], loc='upper left')\n",
    "plt.show()"
   ]
  },
  {
   "cell_type": "markdown",
   "id": "3adb11a1",
   "metadata": {},
   "source": [
    "### Save model"
   ]
  },
  {
   "cell_type": "code",
   "execution_count": null,
   "id": "b27671fd",
   "metadata": {},
   "outputs": [],
   "source": [
    "os.makedirs('../weights', exist_ok=True)\n",
    "torch.save(model_ft.state_dict(), \"../weights/convnext-t_3layer-head_inp256_datasetv1-1_3epochs_v3.pth\")"
   ]
  },
  {
   "cell_type": "code",
   "execution_count": null,
   "id": "4b034ff7",
   "metadata": {},
   "outputs": [],
   "source": []
  }
 ],
 "metadata": {
  "kernelspec": {
   "display_name": "Python 3 (ipykernel)",
   "language": "python",
   "name": "python3"
  },
  "language_info": {
   "codemirror_mode": {
    "name": "ipython",
    "version": 3
   },
   "file_extension": ".py",
   "mimetype": "text/x-python",
   "name": "python",
   "nbconvert_exporter": "python",
   "pygments_lexer": "ipython3",
   "version": "3.7.12"
  }
 },
 "nbformat": 4,
 "nbformat_minor": 5
}
