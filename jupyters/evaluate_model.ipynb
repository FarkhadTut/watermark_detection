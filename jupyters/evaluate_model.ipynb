{
 "cells": [
  {
   "cell_type": "code",
   "execution_count": 1,
   "id": "bad63d18",
   "metadata": {},
   "outputs": [],
   "source": [
    "import sys\n",
    "sys.path.append('../')\n",
    "\n",
    "import os\n",
    "from PIL import Image\n",
    "import pandas as pd"
   ]
  },
  {
   "cell_type": "code",
   "execution_count": 2,
   "id": "6ceeb5c3",
   "metadata": {},
   "outputs": [],
   "source": [
    "from wmdetection.models import get_watermarks_detection_model\n",
    "from wmdetection.pipelines.predictor import WatermarksPredictor\n",
    "from wmdetection.utils import list_images"
   ]
  },
  {
   "cell_type": "markdown",
   "id": "621eea8b",
   "metadata": {},
   "source": [
    "### Create a model and predictor"
   ]
  },
  {
   "cell_type": "code",
   "execution_count": 3,
   "id": "9dbdb7d0",
   "metadata": {},
   "outputs": [],
   "source": [
    "model, transforms = get_watermarks_detection_model('convnext-tiny', fp16=False)"
   ]
  },
  {
   "cell_type": "code",
   "execution_count": 4,
   "id": "49c5cf54",
   "metadata": {},
   "outputs": [],
   "source": [
    "predictor = WatermarksPredictor(model, transforms, 'cuda:0')"
   ]
  },
  {
   "cell_type": "markdown",
   "id": "848fcd8c",
   "metadata": {},
   "source": [
    "### Read test dataset csv"
   ]
  },
  {
   "cell_type": "code",
   "execution_count": 5,
   "id": "516981f2",
   "metadata": {},
   "outputs": [],
   "source": [
    "validation_dataset = '../dataset/watermarks-validation'\n",
    "\n",
    "df = pd.read_csv(os.path.join(validation_dataset, 'validation_data.csv'))\n",
    "df['path'] = df['path'].apply(lambda x: os.path.join(validation_dataset, x))"
   ]
  },
  {
   "cell_type": "markdown",
   "id": "84907d90",
   "metadata": {},
   "source": [
    "### Get predictions on test set"
   ]
  },
  {
   "cell_type": "code",
   "execution_count": 6,
   "id": "96a3ebe4",
   "metadata": {},
   "outputs": [
    {
     "name": "stderr",
     "output_type": "stream",
     "text": [
      "100%|██████████| 4/4 [00:07<00:00,  1.95s/it]\n"
     ]
    }
   ],
   "source": [
    "df['predicted'] = predictor.run(df['path'].values, bs=32)\n",
    "df['predicted'] = df['predicted'].astype(bool)"
   ]
  },
  {
   "cell_type": "code",
   "execution_count": 7,
   "id": "99d0ca9f",
   "metadata": {
    "scrolled": false
   },
   "outputs": [
    {
     "data": {
      "text/html": [
       "<div>\n",
       "<style scoped>\n",
       "    .dataframe tbody tr th:only-of-type {\n",
       "        vertical-align: middle;\n",
       "    }\n",
       "\n",
       "    .dataframe tbody tr th {\n",
       "        vertical-align: top;\n",
       "    }\n",
       "\n",
       "    .dataframe thead th {\n",
       "        text-align: right;\n",
       "    }\n",
       "</style>\n",
       "<table border=\"1\" class=\"dataframe\">\n",
       "  <thead>\n",
       "    <tr style=\"text-align: right;\">\n",
       "      <th></th>\n",
       "      <th>path</th>\n",
       "      <th>watermark</th>\n",
       "      <th>predicted</th>\n",
       "    </tr>\n",
       "  </thead>\n",
       "  <tbody>\n",
       "    <tr>\n",
       "      <th>0</th>\n",
       "      <td>../dataset/watermarks-validation/watermark/0pr...</td>\n",
       "      <td>True</td>\n",
       "      <td>True</td>\n",
       "    </tr>\n",
       "    <tr>\n",
       "      <th>1</th>\n",
       "      <td>../dataset/watermarks-validation/watermark/149...</td>\n",
       "      <td>True</td>\n",
       "      <td>True</td>\n",
       "    </tr>\n",
       "    <tr>\n",
       "      <th>2</th>\n",
       "      <td>../dataset/watermarks-validation/watermark/179...</td>\n",
       "      <td>True</td>\n",
       "      <td>True</td>\n",
       "    </tr>\n",
       "    <tr>\n",
       "      <th>3</th>\n",
       "      <td>../dataset/watermarks-validation/watermark/1mp...</td>\n",
       "      <td>True</td>\n",
       "      <td>True</td>\n",
       "    </tr>\n",
       "    <tr>\n",
       "      <th>4</th>\n",
       "      <td>../dataset/watermarks-validation/watermark/200...</td>\n",
       "      <td>True</td>\n",
       "      <td>True</td>\n",
       "    </tr>\n",
       "    <tr>\n",
       "      <th>...</th>\n",
       "      <td>...</td>\n",
       "      <td>...</td>\n",
       "      <td>...</td>\n",
       "    </tr>\n",
       "    <tr>\n",
       "      <th>117</th>\n",
       "      <td>../dataset/watermarks-validation/clean/vmxw2sx...</td>\n",
       "      <td>False</td>\n",
       "      <td>False</td>\n",
       "    </tr>\n",
       "    <tr>\n",
       "      <th>118</th>\n",
       "      <td>../dataset/watermarks-validation/clean/wqj7tkn...</td>\n",
       "      <td>False</td>\n",
       "      <td>False</td>\n",
       "    </tr>\n",
       "    <tr>\n",
       "      <th>119</th>\n",
       "      <td>../dataset/watermarks-validation/clean/wswasv1...</td>\n",
       "      <td>False</td>\n",
       "      <td>False</td>\n",
       "    </tr>\n",
       "    <tr>\n",
       "      <th>120</th>\n",
       "      <td>../dataset/watermarks-validation/clean/xa8vads...</td>\n",
       "      <td>False</td>\n",
       "      <td>False</td>\n",
       "    </tr>\n",
       "    <tr>\n",
       "      <th>121</th>\n",
       "      <td>../dataset/watermarks-validation/clean/xebrnx9...</td>\n",
       "      <td>False</td>\n",
       "      <td>False</td>\n",
       "    </tr>\n",
       "  </tbody>\n",
       "</table>\n",
       "<p>122 rows × 3 columns</p>\n",
       "</div>"
      ],
      "text/plain": [
       "                                                  path  watermark  predicted\n",
       "0    ../dataset/watermarks-validation/watermark/0pr...       True       True\n",
       "1    ../dataset/watermarks-validation/watermark/149...       True       True\n",
       "2    ../dataset/watermarks-validation/watermark/179...       True       True\n",
       "3    ../dataset/watermarks-validation/watermark/1mp...       True       True\n",
       "4    ../dataset/watermarks-validation/watermark/200...       True       True\n",
       "..                                                 ...        ...        ...\n",
       "117  ../dataset/watermarks-validation/clean/vmxw2sx...      False      False\n",
       "118  ../dataset/watermarks-validation/clean/wqj7tkn...      False      False\n",
       "119  ../dataset/watermarks-validation/clean/wswasv1...      False      False\n",
       "120  ../dataset/watermarks-validation/clean/xa8vads...      False      False\n",
       "121  ../dataset/watermarks-validation/clean/xebrnx9...      False      False\n",
       "\n",
       "[122 rows x 3 columns]"
      ]
     },
     "execution_count": 7,
     "metadata": {},
     "output_type": "execute_result"
    }
   ],
   "source": [
    "df"
   ]
  },
  {
   "cell_type": "markdown",
   "id": "7af113e0",
   "metadata": {},
   "source": [
    "### Calc metrics"
   ]
  },
  {
   "cell_type": "code",
   "execution_count": 8,
   "id": "e535ce3c",
   "metadata": {},
   "outputs": [
    {
     "name": "stdout",
     "output_type": "stream",
     "text": [
      "Accuracy: 0.9344262295081968\n"
     ]
    }
   ],
   "source": [
    "from sklearn.metrics import accuracy_score\n",
    "\n",
    "print(\"Accuracy:\", accuracy_score(df['watermark'].values, df['predicted'].values))"
   ]
  },
  {
   "cell_type": "code",
   "execution_count": 9,
   "id": "6a3f3d1f",
   "metadata": {},
   "outputs": [
    {
     "data": {
      "text/plain": [
       "<sklearn.metrics._plot.confusion_matrix.ConfusionMatrixDisplay at 0x7ff30a6922d0>"
      ]
     },
     "execution_count": 9,
     "metadata": {},
     "output_type": "execute_result"
    },
    {
     "data": {
      "image/png": "[encoded data removed]",
      "text/plain": [
       "<Figure size 432x288 with 2 Axes>"
      ]
     },
     "metadata": {
      "needs_background": "light"
     },
     "output_type": "display_data"
    }
   ],
   "source": [
    "from wmdetection.pipelines.metrics import plot_confusion_matrix\n",
    "\n",
    "plot_confusion_matrix(df['watermark'].values, df['predicted'].values)"
   ]
  },
  {
   "cell_type": "code",
   "execution_count": null,
   "id": "23d53284",
   "metadata": {},
   "outputs": [],
   "source": []
  }
 ],
 "metadata": {
  "kernelspec": {
   "display_name": "Python 3 (ipykernel)",
   "language": "python",
   "name": "python3"
  },
  "language_info": {
   "codemirror_mode": {
    "name": "ipython",
    "version": 3
   },
   "file_extension": ".py",
   "mimetype": "text/x-python",
   "name": "python",
   "nbconvert_exporter": "python",
   "pygments_lexer": "ipython3",
   "version": "3.7.12"
  }
 },
 "nbformat": 4,
 "nbformat_minor": 5
}
